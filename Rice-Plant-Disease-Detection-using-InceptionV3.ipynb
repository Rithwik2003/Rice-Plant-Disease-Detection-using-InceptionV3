{
 "cells": [
  {
   "cell_type": "code",
   "execution_count": 1,
   "metadata": {},
   "outputs": [],
   "source": [
    "import tensorflow as tf\n",
    "from tensorflow.keras.applications import InceptionV3\n",
    "from tensorflow.keras.models import Sequential\n",
    "from tensorflow.keras.layers import Dense, GlobalAveragePooling2D\n",
    "from tensorflow.keras.preprocessing.image import ImageDataGenerator\n",
    "import matplotlib.pyplot as plt"
   ]
  },
  {
   "cell_type": "code",
   "execution_count": 2,
   "metadata": {},
   "outputs": [],
   "source": [
    "# Set the input image size and number of classes\n",
    "input_shape = (299, 299, 3)\n",
    "num_classes = 9\n",
    "batch_size = 32\n",
    "\n",
    "# Create the InceptionV3 model with pre-trained weights\n",
    "base_model = InceptionV3(weights='imagenet', include_top=False, input_shape=input_shape)\n",
    "\n",
    "# Freeze the pre-trained layers\n",
    "base_model.trainable = False\n",
    "\n",
    "# Add custom layers on top\n",
    "model = Sequential([\n",
    "    base_model,\n",
    "    GlobalAveragePooling2D(),\n",
    "    Dense(1024, activation='relu'),\n",
    "    Dense(num_classes, activation='softmax')\n",
    "])"
   ]
  },
  {
   "cell_type": "code",
   "execution_count": 3,
   "metadata": {},
   "outputs": [
    {
     "name": "stdout",
     "output_type": "stream",
     "text": [
      "Found 3561 images belonging to 9 classes.\n",
      "Found 891 images belonging to 9 classes.\n"
     ]
    }
   ],
   "source": [
    "\n",
    "# Compile the model\n",
    "model.compile(optimizer='adam', loss='categorical_crossentropy', metrics=['accuracy'])\n",
    "\n",
    "# Set up the data generators for training and testing\n",
    "train_data_dir = 'C:\\\\Users\\\\bhaav\\\\Downloads\\\\Rice_data_pure_tarun\\\\training'\n",
    "test_data_dir = 'C:\\\\Users\\\\bhaav\\\\Downloads\\\\Rice_data_pure_tarun\\\\testing'\n",
    "\n",
    "train_datagen = ImageDataGenerator(\n",
    "    rescale=1./255,\n",
    "    rotation_range=20,\n",
    "    width_shift_range=0.2,\n",
    "    height_shift_range=0.2,\n",
    "    shear_range=0.2,\n",
    "    zoom_range=0.2,\n",
    "    horizontal_flip=True,\n",
    "    fill_mode='nearest')\n",
    "\n",
    "test_datagen = ImageDataGenerator(rescale=1./255)\n",
    "\n",
    "train_generator = train_datagen.flow_from_directory(\n",
    "    train_data_dir,\n",
    "    target_size=(input_shape[0], input_shape[1]),\n",
    "    batch_size=batch_size,\n",
    "    class_mode='categorical')\n",
    "\n",
    "test_generator = test_datagen.flow_from_directory(\n",
    "    test_data_dir,\n",
    "    target_size=(input_shape[0], input_shape[1]),\n",
    "    batch_size=batch_size,\n",
    "    class_mode='categorical',\n",
    "    shuffle=False)"
   ]
  },
  {
   "cell_type": "code",
   "execution_count": 4,
   "metadata": {},
   "outputs": [
    {
     "name": "stdout",
     "output_type": "stream",
     "text": [
      "Epoch 1/20\n",
      "111/111 [==============================] - 209s 2s/step - loss: 0.7444 - accuracy: 0.7458 - val_loss: 0.3609 - val_accuracy: 0.8754\n",
      "Epoch 2/20\n",
      "111/111 [==============================] - 188s 2s/step - loss: 0.3639 - accuracy: 0.8671 - val_loss: 0.3030 - val_accuracy: 0.8855\n",
      "Epoch 3/20\n",
      "111/111 [==============================] - 177s 2s/step - loss: 0.2808 - accuracy: 0.8954 - val_loss: 0.3015 - val_accuracy: 0.8855\n",
      "Epoch 4/20\n",
      "111/111 [==============================] - 165s 1s/step - loss: 0.2535 - accuracy: 0.9062 - val_loss: 0.2699 - val_accuracy: 0.8956\n",
      "Epoch 5/20\n",
      "111/111 [==============================] - 167s 2s/step - loss: 0.2415 - accuracy: 0.9096 - val_loss: 0.2915 - val_accuracy: 0.8923\n",
      "Epoch 6/20\n",
      "111/111 [==============================] - 174s 2s/step - loss: 0.2217 - accuracy: 0.9184 - val_loss: 0.2241 - val_accuracy: 0.9147\n",
      "Epoch 7/20\n",
      "111/111 [==============================] - 171s 2s/step - loss: 0.2237 - accuracy: 0.9139 - val_loss: 0.2032 - val_accuracy: 0.9192\n",
      "Epoch 8/20\n",
      "111/111 [==============================] - 169s 2s/step - loss: 0.2078 - accuracy: 0.9207 - val_loss: 0.2251 - val_accuracy: 0.9169\n",
      "Epoch 9/20\n",
      "111/111 [==============================] - 160s 1s/step - loss: 0.2086 - accuracy: 0.9195 - val_loss: 0.1910 - val_accuracy: 0.9226\n",
      "Epoch 10/20\n",
      "111/111 [==============================] - 162s 1s/step - loss: 0.1902 - accuracy: 0.9292 - val_loss: 0.2362 - val_accuracy: 0.9068\n",
      "Epoch 11/20\n",
      "111/111 [==============================] - 162s 1s/step - loss: 0.1801 - accuracy: 0.9348 - val_loss: 0.2046 - val_accuracy: 0.9125\n",
      "Epoch 12/20\n",
      "111/111 [==============================] - 161s 1s/step - loss: 0.1599 - accuracy: 0.9413 - val_loss: 0.2000 - val_accuracy: 0.9158\n",
      "Epoch 13/20\n",
      "111/111 [==============================] - 161s 1s/step - loss: 0.1924 - accuracy: 0.9246 - val_loss: 0.2829 - val_accuracy: 0.8945\n",
      "Epoch 14/20\n",
      "111/111 [==============================] - 163s 1s/step - loss: 0.1762 - accuracy: 0.9294 - val_loss: 0.2202 - val_accuracy: 0.9102\n",
      "Epoch 15/20\n",
      "111/111 [==============================] - 177s 2s/step - loss: 0.1525 - accuracy: 0.9425 - val_loss: 0.1920 - val_accuracy: 0.9203\n",
      "Epoch 16/20\n",
      "111/111 [==============================] - 173s 2s/step - loss: 0.1455 - accuracy: 0.9476 - val_loss: 0.2059 - val_accuracy: 0.9259\n",
      "Epoch 17/20\n",
      "111/111 [==============================] - 148s 1s/step - loss: 0.1539 - accuracy: 0.9408 - val_loss: 0.1911 - val_accuracy: 0.9282\n",
      "Epoch 18/20\n",
      "111/111 [==============================] - 143s 1s/step - loss: 0.1372 - accuracy: 0.9467 - val_loss: 0.1763 - val_accuracy: 0.9282\n",
      "Epoch 19/20\n",
      "111/111 [==============================] - 167s 2s/step - loss: 0.1386 - accuracy: 0.9464 - val_loss: 0.1536 - val_accuracy: 0.9428\n",
      "Epoch 20/20\n",
      "111/111 [==============================] - 164s 1s/step - loss: 0.1577 - accuracy: 0.9377 - val_loss: 0.1889 - val_accuracy: 0.9248\n",
      "Epoch 1/50\n",
      "111/111 [==============================] - 177s 2s/step - loss: 0.2603 - accuracy: 0.9090 - val_loss: 0.1882 - val_accuracy: 0.9349\n",
      "Epoch 2/50\n",
      "111/111 [==============================] - 169s 2s/step - loss: 0.1453 - accuracy: 0.9484 - val_loss: 0.1758 - val_accuracy: 0.9338\n",
      "Epoch 3/50\n",
      "111/111 [==============================] - 163s 1s/step - loss: 0.1125 - accuracy: 0.9623 - val_loss: 0.1727 - val_accuracy: 0.9383\n",
      "Epoch 4/50\n",
      "111/111 [==============================] - 153s 1s/step - loss: 0.0819 - accuracy: 0.9734 - val_loss: 0.1286 - val_accuracy: 0.9574\n",
      "Epoch 5/50\n",
      "111/111 [==============================] - 154s 1s/step - loss: 0.0885 - accuracy: 0.9685 - val_loss: 0.1560 - val_accuracy: 0.9551\n",
      "Epoch 6/50\n",
      "111/111 [==============================] - 151s 1s/step - loss: 0.0714 - accuracy: 0.9736 - val_loss: 0.1530 - val_accuracy: 0.9607\n",
      "Epoch 7/50\n",
      "111/111 [==============================] - 151s 1s/step - loss: 0.0725 - accuracy: 0.9756 - val_loss: 0.1088 - val_accuracy: 0.9596\n",
      "Epoch 8/50\n",
      "111/111 [==============================] - 151s 1s/step - loss: 0.0574 - accuracy: 0.9821 - val_loss: 0.1327 - val_accuracy: 0.9618\n",
      "Epoch 9/50\n",
      "111/111 [==============================] - 151s 1s/step - loss: 0.0448 - accuracy: 0.9841 - val_loss: 0.1091 - val_accuracy: 0.9708\n",
      "Epoch 10/50\n",
      "111/111 [==============================] - 150s 1s/step - loss: 0.0583 - accuracy: 0.9787 - val_loss: 0.1330 - val_accuracy: 0.9630\n",
      "Epoch 11/50\n",
      "111/111 [==============================] - 151s 1s/step - loss: 0.0684 - accuracy: 0.9742 - val_loss: 0.1182 - val_accuracy: 0.9652\n",
      "Epoch 12/50\n",
      "111/111 [==============================] - 150s 1s/step - loss: 0.0290 - accuracy: 0.9887 - val_loss: 0.1149 - val_accuracy: 0.9697\n",
      "Epoch 13/50\n",
      "111/111 [==============================] - 155s 1s/step - loss: 0.0531 - accuracy: 0.9830 - val_loss: 0.1178 - val_accuracy: 0.9663\n",
      "Epoch 14/50\n",
      "111/111 [==============================] - 154s 1s/step - loss: 0.0318 - accuracy: 0.9875 - val_loss: 0.0985 - val_accuracy: 0.9675\n",
      "Epoch 15/50\n",
      "111/111 [==============================] - 153s 1s/step - loss: 0.0355 - accuracy: 0.9878 - val_loss: 0.1427 - val_accuracy: 0.9630\n",
      "Epoch 16/50\n",
      "111/111 [==============================] - 169s 2s/step - loss: 0.0317 - accuracy: 0.9901 - val_loss: 0.1485 - val_accuracy: 0.9641\n",
      "Epoch 17/50\n",
      "111/111 [==============================] - 164s 1s/step - loss: 0.0475 - accuracy: 0.9821 - val_loss: 0.1513 - val_accuracy: 0.9607\n",
      "Epoch 18/50\n",
      "111/111 [==============================] - 152s 1s/step - loss: 0.0439 - accuracy: 0.9870 - val_loss: 0.1177 - val_accuracy: 0.9686\n",
      "Epoch 19/50\n",
      "111/111 [==============================] - 150s 1s/step - loss: 0.0322 - accuracy: 0.9884 - val_loss: 0.1221 - val_accuracy: 0.9618\n",
      "Epoch 20/50\n",
      "111/111 [==============================] - 150s 1s/step - loss: 0.0341 - accuracy: 0.9892 - val_loss: 0.1392 - val_accuracy: 0.9641\n",
      "Epoch 21/50\n",
      "111/111 [==============================] - 151s 1s/step - loss: 0.0289 - accuracy: 0.9901 - val_loss: 0.1349 - val_accuracy: 0.9697\n",
      "Epoch 22/50\n",
      "111/111 [==============================] - 178s 2s/step - loss: 0.0222 - accuracy: 0.9932 - val_loss: 0.0948 - val_accuracy: 0.9742\n",
      "Epoch 23/50\n",
      "111/111 [==============================] - 175s 2s/step - loss: 0.0413 - accuracy: 0.9887 - val_loss: 0.0996 - val_accuracy: 0.9708\n",
      "Epoch 24/50\n",
      "111/111 [==============================] - 173s 2s/step - loss: 0.0368 - accuracy: 0.9898 - val_loss: 0.0976 - val_accuracy: 0.9719\n",
      "Epoch 25/50\n",
      "111/111 [==============================] - 173s 2s/step - loss: 0.0215 - accuracy: 0.9926 - val_loss: 0.0988 - val_accuracy: 0.9753\n",
      "Epoch 26/50\n",
      "111/111 [==============================] - 173s 2s/step - loss: 0.0316 - accuracy: 0.9901 - val_loss: 0.0890 - val_accuracy: 0.9708\n",
      "Epoch 27/50\n",
      "111/111 [==============================] - 177s 2s/step - loss: 0.0326 - accuracy: 0.9884 - val_loss: 0.1083 - val_accuracy: 0.9753\n",
      "Epoch 28/50\n",
      "111/111 [==============================] - 158s 1s/step - loss: 0.0179 - accuracy: 0.9932 - val_loss: 0.0844 - val_accuracy: 0.9742\n",
      "Epoch 29/50\n",
      "111/111 [==============================] - 147s 1s/step - loss: 0.0269 - accuracy: 0.9918 - val_loss: 0.1258 - val_accuracy: 0.9764\n",
      "Epoch 30/50\n",
      "111/111 [==============================] - 148s 1s/step - loss: 0.0241 - accuracy: 0.9912 - val_loss: 0.0720 - val_accuracy: 0.9787\n",
      "Epoch 31/50\n",
      "111/111 [==============================] - 149s 1s/step - loss: 0.0197 - accuracy: 0.9929 - val_loss: 0.1094 - val_accuracy: 0.9697\n",
      "Epoch 32/50\n",
      "111/111 [==============================] - 152s 1s/step - loss: 0.0183 - accuracy: 0.9938 - val_loss: 0.1650 - val_accuracy: 0.9663\n",
      "Epoch 33/50\n",
      "111/111 [==============================] - 151s 1s/step - loss: 0.0294 - accuracy: 0.9923 - val_loss: 0.4838 - val_accuracy: 0.9181\n",
      "Epoch 34/50\n",
      "111/111 [==============================] - 151s 1s/step - loss: 0.0532 - accuracy: 0.9850 - val_loss: 0.1352 - val_accuracy: 0.9686\n",
      "Epoch 35/50\n",
      "111/111 [==============================] - 154s 1s/step - loss: 0.0279 - accuracy: 0.9921 - val_loss: 0.1337 - val_accuracy: 0.9731\n",
      "Epoch 36/50\n",
      "111/111 [==============================] - 152s 1s/step - loss: 0.0223 - accuracy: 0.9918 - val_loss: 0.0916 - val_accuracy: 0.9764\n",
      "Epoch 37/50\n",
      "111/111 [==============================] - 150s 1s/step - loss: 0.0275 - accuracy: 0.9912 - val_loss: 0.0927 - val_accuracy: 0.9753\n",
      "Epoch 38/50\n",
      "111/111 [==============================] - 150s 1s/step - loss: 0.0184 - accuracy: 0.9932 - val_loss: 0.0768 - val_accuracy: 0.9742\n",
      "Epoch 39/50\n",
      "111/111 [==============================] - 151s 1s/step - loss: 0.0146 - accuracy: 0.9943 - val_loss: 0.0854 - val_accuracy: 0.9832\n",
      "Epoch 40/50\n",
      "111/111 [==============================] - 154s 1s/step - loss: 0.0183 - accuracy: 0.9940 - val_loss: 0.1100 - val_accuracy: 0.9787\n",
      "Epoch 41/50\n",
      "111/111 [==============================] - 175s 2s/step - loss: 0.0217 - accuracy: 0.9929 - val_loss: 0.1023 - val_accuracy: 0.9764\n",
      "Epoch 42/50\n",
      "111/111 [==============================] - 152s 1s/step - loss: 0.0109 - accuracy: 0.9966 - val_loss: 0.1674 - val_accuracy: 0.9708\n",
      "Epoch 43/50\n",
      "111/111 [==============================] - 152s 1s/step - loss: 0.0159 - accuracy: 0.9952 - val_loss: 0.1158 - val_accuracy: 0.9742\n",
      "Epoch 44/50\n",
      "111/111 [==============================] - 155s 1s/step - loss: 0.0152 - accuracy: 0.9952 - val_loss: 0.0808 - val_accuracy: 0.9764\n",
      "Epoch 45/50\n",
      "111/111 [==============================] - 153s 1s/step - loss: 0.0130 - accuracy: 0.9955 - val_loss: 0.0901 - val_accuracy: 0.9764\n",
      "Epoch 46/50\n",
      "111/111 [==============================] - 155s 1s/step - loss: 0.0196 - accuracy: 0.9949 - val_loss: 0.1293 - val_accuracy: 0.9675\n",
      "Epoch 47/50\n",
      "111/111 [==============================] - 152s 1s/step - loss: 0.0139 - accuracy: 0.9952 - val_loss: 0.0928 - val_accuracy: 0.9753\n",
      "Epoch 48/50\n",
      "111/111 [==============================] - 154s 1s/step - loss: 0.0233 - accuracy: 0.9918 - val_loss: 0.2479 - val_accuracy: 0.9686\n",
      "Epoch 49/50\n",
      "111/111 [==============================] - 153s 1s/step - loss: 0.0239 - accuracy: 0.9932 - val_loss: 0.1833 - val_accuracy: 0.9675\n",
      "Epoch 50/50\n",
      "111/111 [==============================] - 154s 1s/step - loss: 0.0236 - accuracy: 0.9926 - val_loss: 0.0852 - val_accuracy: 0.9809\n"
     ]
    }
   ],
   "source": [
    "# Train the model with the original frozen layers\n",
    "epochs = 20\n",
    "history = model.fit(\n",
    "    train_generator,\n",
    "    steps_per_epoch=train_generator.samples // batch_size,\n",
    "    epochs=epochs,\n",
    "    validation_data=test_generator,\n",
    ")\n",
    "\n",
    "# Now, fine-tune the model by unfreezing some layers\n",
    "base_model.trainable = True\n",
    "\n",
    "# Fine-tune only the later layers\n",
    "fine_tune_at = 200\n",
    "for layer in base_model.layers[:fine_tune_at]:\n",
    "    layer.trainable = False\n",
    "\n",
    "# Recompile the model after fine-tuning\n",
    "model.compile(optimizer=tf.keras.optimizers.Adam(learning_rate=0.0001), loss='categorical_crossentropy', metrics=['accuracy'])\n",
    "\n",
    "# Train the model with fine-tuning\n",
    "fine_tune_epochs = 50\n",
    "history_fine_tune = model.fit(\n",
    "    train_generator,\n",
    "    steps_per_epoch=train_generator.samples // batch_size,\n",
    "    epochs=fine_tune_epochs,\n",
    "    validation_data=test_generator,\n",
    ")"
   ]
  },
  {
   "cell_type": "code",
   "execution_count": 6,
   "metadata": {},
   "outputs": [
    {
     "name": "stdout",
     "output_type": "stream",
     "text": [
      "28/28 [==============================] - 15s 503ms/step - loss: 0.0852 - accuracy: 0.9809\n",
      "Fine-tuned Test loss: 0.08520239591598511\n",
      "Fine-tuned Test accuracy: 0.9809203147888184\n"
     ]
    }
   ],
   "source": [
    "# Evaluate the fine-tuned model on the test data\n",
    "eval_result = model.evaluate(test_generator)\n",
    "print('Fine-tuned Test loss:', eval_result[0])\n",
    "print('Fine-tuned Test accuracy:', eval_result[1])"
   ]
  },
  {
   "cell_type": "code",
   "execution_count": 10,
   "metadata": {},
   "outputs": [
    {
     "data": {
      "image/png": "[encoded data removed]",
      "text/plain": [
       "<Figure size 432x288 with 1 Axes>"
      ]
     },
     "metadata": {
      "needs_background": "light"
     },
     "output_type": "display_data"
    }
   ],
   "source": [
    "\n",
    "# Plot training and validation accuracy\n",
    "plt.plot(history.history['accuracy'], label='Training Accuracy')\n",
    "plt.plot(history.history['val_accuracy'], label='Validation Accuracy')\n",
    "plt.plot(history_fine_tune.history['accuracy'], label='Fine-Tuned Training Accuracy')\n",
    "plt.plot(history_fine_tune.history['val_accuracy'], label='Fine-Tuned Validation Accuracy')\n",
    "plt.xlabel('Epoch')\n",
    "plt.ylabel('Accuracy')\n",
    "plt.legend()\n",
    "plt.title('Training and Validation Accuracy')\n",
    "plt.show()"
   ]
  },
  {
   "cell_type": "code",
   "execution_count": 12,
   "metadata": {},
   "outputs": [
    {
     "name": "stdout",
     "output_type": "stream",
     "text": [
      "Precision: 0.9810748574544185\n",
      "Recall: 0.9809203142536476\n",
      "F1 Score: 0.9809842022042746\n"
     ]
    }
   ],
   "source": [
    "from sklearn.metrics import precision_score, recall_score, f1_score\n",
    "import numpy as np\n",
    "# Make predictions on test data\n",
    "y_pred = model.predict(test_generator)\n",
    "y_pred_classes = np.argmax(y_pred, axis=1)\n",
    "\n",
    "# Get true labels\n",
    "y_true = test_generator.classes\n",
    "\n",
    "# Calculate precision, recall, and f1 score\n",
    "precision = precision_score(y_true, y_pred_classes, average='weighted')\n",
    "recall = recall_score(y_true, y_pred_classes, average='weighted')\n",
    "f1 = f1_score(y_true, y_pred_classes, average='weighted')\n",
    "\n",
    "print(\"Precision:\", precision)\n",
    "print(\"Recall:\", recall)\n",
    "print(\"F1 Score:\", f1)\n"
   ]
  },
  {
   "cell_type": "code",
   "execution_count": 13,
   "metadata": {},
   "outputs": [
    {
     "name": "stdout",
     "output_type": "stream",
     "text": [
      "Specificity: 1.0\n"
     ]
    }
   ],
   "source": [
    "from sklearn.metrics import confusion_matrix\n",
    "\n",
    "# Get the confusion matrix\n",
    "conf_matrix = confusion_matrix(y_true, y_pred_classes)\n",
    "\n",
    "# Calculate specificity (True Negative Rate) for a specific class (assuming binary classification)\n",
    "# For multi-class classification, calculate specificity for each class separately.\n",
    "specificity = conf_matrix[0, 0] / (conf_matrix[0, 0] + conf_matrix[0, 1])\n",
    "\n",
    "print(\"Specificity:\", specificity)\n"
   ]
  },
  {
   "cell_type": "code",
   "execution_count": 20,
   "metadata": {},
   "outputs": [
    {
     "name": "stdout",
     "output_type": "stream",
     "text": [
      "AUC-ROC: 0.9990779246416288\n"
     ]
    }
   ],
   "source": [
    "# Calculate AUC-ROC\n",
    "from sklearn.metrics import roc_auc_score\n",
    "\n",
    "# One-hot encode the true labels to match the format expected by roc_auc_score\n",
    "from sklearn.preprocessing import label_binarize\n",
    "y_true_one_hot = label_binarize(y_true, classes=range(num_classes))\n",
    "\n",
    "# Calculate AUC-ROC for each class (one-vs-rest strategy)\n",
    "auc_roc = roc_auc_score(y_true_one_hot, y_pred, average='macro')\n",
    "\n",
    "print(\"AUC-ROC:\", auc_roc)\n"
   ]
  },
  {
   "cell_type": "code",
   "execution_count": 22,
   "metadata": {},
   "outputs": [
    {
     "name": "stdout",
     "output_type": "stream",
     "text": [
      "AUC-PR: 0.9905806903022507\n"
     ]
    }
   ],
   "source": [
    "# Calculate AUC-PR\n",
    "from sklearn.metrics import average_precision_score\n",
    "import numpy as np\n",
    "\n",
    "# Convert y_true to binary format (one-hot encoded)\n",
    "y_true_binary = np.zeros_like(y_pred)\n",
    "y_true_binary[np.arange(len(y_true)), y_true] = 1\n",
    "\n",
    "# Calculate AUC-PR for each class (one-vs-rest strategy)\n",
    "auc_pr = average_precision_score(y_true_binary, y_pred, average='macro')\n",
    "\n",
    "print(\"AUC-PR:\", auc_pr)\n"
   ]
  },
  {
   "cell_type": "code",
   "execution_count": 2,
   "metadata": {},
   "outputs": [
    {
     "ename": "NameError",
     "evalue": "name 'y_true' is not defined",
     "output_type": "error",
     "traceback": [
      "\u001b[1;31m---------------------------------------------------------------------------\u001b[0m",
      "\u001b[1;31mNameError\u001b[0m                                 Traceback (most recent call last)",
      "\u001b[1;32m<ipython-input-2-9367cb775c8c>\u001b[0m in \u001b[0;36m<module>\u001b[1;34m\u001b[0m\n\u001b[0;32m      2\u001b[0m \u001b[1;33m\u001b[0m\u001b[0m\n\u001b[0;32m      3\u001b[0m \u001b[1;31m# Get the confusion matrix\u001b[0m\u001b[1;33m\u001b[0m\u001b[1;33m\u001b[0m\u001b[1;33m\u001b[0m\u001b[0m\n\u001b[1;32m----> 4\u001b[1;33m \u001b[0mconf_matrix\u001b[0m \u001b[1;33m=\u001b[0m \u001b[0mconfusion_matrix\u001b[0m\u001b[1;33m(\u001b[0m\u001b[0my_true\u001b[0m\u001b[1;33m,\u001b[0m \u001b[0my_pred_classes\u001b[0m\u001b[1;33m)\u001b[0m\u001b[1;33m\u001b[0m\u001b[1;33m\u001b[0m\u001b[0m\n\u001b[0m\u001b[0;32m      5\u001b[0m \u001b[1;33m\u001b[0m\u001b[0m\n\u001b[0;32m      6\u001b[0m \u001b[0mprint\u001b[0m\u001b[1;33m(\u001b[0m\u001b[1;34m\"Confusion Matrix:\"\u001b[0m\u001b[1;33m)\u001b[0m\u001b[1;33m\u001b[0m\u001b[1;33m\u001b[0m\u001b[0m\n",
      "\u001b[1;31mNameError\u001b[0m: name 'y_true' is not defined"
     ]
    }
   ],
   "source": [
    "from sklearn.metrics import confusion_matrix\n",
    "\n",
    "# Get the confusion matrix\n",
    "conf_matrix = confusion_matrix(y_true, y_pred_classes)\n",
    "\n",
    "print(\"Confusion Matrix:\")\n",
    "print(conf_matrix)\n"
   ]
  },
  {
   "cell_type": "code",
   "execution_count": 25,
   "metadata": {},
   "outputs": [
    {
     "data": {
      "image/png": "[encoded data removed]",
      "text/plain": [
       "<Figure size 576x432 with 2 Axes>"
      ]
     },
     "metadata": {
      "needs_background": "light"
     },
     "output_type": "display_data"
    }
   ],
   "source": [
    "import numpy as np\n",
    "import seaborn as sns\n",
    "import matplotlib.pyplot as plt\n",
    "from sklearn.metrics import confusion_matrix\n",
    "\n",
    "# Get the confusion matrix\n",
    "conf_matrix = confusion_matrix(y_true, y_pred_classes)\n",
    "\n",
    "# Get class labels (assuming class indices are integers from 0 to num_classes-1)\n",
    "class_labels = [str(i) for i in range(num_classes)]\n",
    "\n",
    "# Plot confusion matrix as a heatmap\n",
    "plt.figure(figsize=(8, 6))\n",
    "sns.heatmap(conf_matrix, annot=True, fmt='d', cmap='Blues', xticklabels=class_labels, yticklabels=class_labels)\n",
    "plt.xlabel('Predicted Labels')\n",
    "plt.ylabel('True Labels')\n",
    "plt.title('Confusion Matrix')\n",
    "plt.show()\n"
   ]
  },
  {
   "cell_type": "code",
   "execution_count": 17,
   "metadata": {},
   "outputs": [
    {
     "name": "stdout",
     "output_type": "stream",
     "text": [
      "Cohen's Kappa: 0.9776464667781367\n"
     ]
    }
   ],
   "source": [
    "from sklearn.metrics import cohen_kappa_score\n",
    "\n",
    "# Calculate Cohen's Kappa\n",
    "cohen_kappa = cohen_kappa_score(y_true, y_pred_classes)\n",
    "\n",
    "print(\"Cohen's Kappa:\", cohen_kappa)\n"
   ]
  },
  {
   "cell_type": "code",
   "execution_count": 1,
   "metadata": {},
   "outputs": [
    {
     "ename": "NameError",
     "evalue": "name 'y_true' is not defined",
     "output_type": "error",
     "traceback": [
      "\u001b[1;31m---------------------------------------------------------------------------\u001b[0m",
      "\u001b[1;31mNameError\u001b[0m                                 Traceback (most recent call last)",
      "\u001b[1;32m<ipython-input-1-54f94f487bc8>\u001b[0m in \u001b[0;36m<module>\u001b[1;34m\u001b[0m\n\u001b[0;32m      2\u001b[0m \u001b[1;33m\u001b[0m\u001b[0m\n\u001b[0;32m      3\u001b[0m \u001b[1;31m# Calculate MCC\u001b[0m\u001b[1;33m\u001b[0m\u001b[1;33m\u001b[0m\u001b[1;33m\u001b[0m\u001b[0m\n\u001b[1;32m----> 4\u001b[1;33m \u001b[0mmcc\u001b[0m \u001b[1;33m=\u001b[0m \u001b[0mmatthews_corrcoef\u001b[0m\u001b[1;33m(\u001b[0m\u001b[0my_true\u001b[0m\u001b[1;33m,\u001b[0m \u001b[0my_pred_classes\u001b[0m\u001b[1;33m)\u001b[0m\u001b[1;33m\u001b[0m\u001b[1;33m\u001b[0m\u001b[0m\n\u001b[0m\u001b[0;32m      5\u001b[0m \u001b[1;33m\u001b[0m\u001b[0m\n\u001b[0;32m      6\u001b[0m \u001b[0mprint\u001b[0m\u001b[1;33m(\u001b[0m\u001b[1;34m\"Matthews Correlation Coefficient (MCC):\"\u001b[0m\u001b[1;33m,\u001b[0m \u001b[0mmcc\u001b[0m\u001b[1;33m)\u001b[0m\u001b[1;33m\u001b[0m\u001b[1;33m\u001b[0m\u001b[0m\n",
      "\u001b[1;31mNameError\u001b[0m: name 'y_true' is not defined"
     ]
    }
   ],
   "source": [
    "from sklearn.metrics import matthews_corrcoef\n",
    "\n",
    "# Calculate MCC\n",
    "mcc = matthews_corrcoef(y_true, y_pred_classes)\n",
    "\n",
    "print(\"Matthews Correlation Coefficient (MCC):\", mcc)\n"
   ]
  },
  {
   "cell_type": "code",
   "execution_count": 28,
   "metadata": {},
   "outputs": [
    {
     "data": {
      "image/png": "[encoded data removed]",
      "text/plain": [
       "<Figure size 576x432 with 2 Axes>"
      ]
     },
     "metadata": {
      "needs_background": "light"
     },
     "output_type": "display_data"
    },
    {
     "name": "stdout",
     "output_type": "stream",
     "text": [
      "Model Accuracy: 0.9809203142536476\n",
      "Precision: 0.9810748574544185\n",
      "Recall: 0.9809203142536476\n",
      "F1 Score: 0.9809842022042746\n",
      "AUC-ROC per Class: [0.9994475435901582, 0.999080426215151, 0.9958558698782054, 1.0, 1.0, 1.0, 1.0, 0.9973174820911446, 1.0]\n",
      "AUC-PR per Class: [0.9958365313088016, 0.9916217977470825, 0.9530766184275027, 1.0, 1.0, 1.0, 1.0, 0.9746912652368689, 1.0]\n",
      "Average Inference Time per Sample: 0.023364557575757505\n"
     ]
    }
   ],
   "source": [
    "import numpy as np\n",
    "import seaborn as sns\n",
    "import matplotlib.pyplot as plt\n",
    "from sklearn.metrics import confusion_matrix, accuracy_score, precision_score, recall_score, f1_score, roc_auc_score, average_precision_score\n",
    "import timeit\n",
    "\n",
    "# Assuming you have already calculated y_true and y_pred_classes\n",
    "\n",
    "# Get the confusion matrix\n",
    "conf_matrix = confusion_matrix(y_true, y_pred_classes)\n",
    "\n",
    "# Get class labels (assuming class indices are integers from 0 to num_classes-1)\n",
    "class_labels = [str(i) for i in range(num_classes)]\n",
    "\n",
    "# Plot confusion matrix as a heatmap\n",
    "plt.figure(figsize=(8, 6))\n",
    "sns.heatmap(conf_matrix, annot=True, fmt='d', cmap='Blues', xticklabels=class_labels, yticklabels=class_labels)\n",
    "plt.xlabel('Predicted Labels')\n",
    "plt.ylabel('True Labels')\n",
    "plt.title('Confusion Matrix')\n",
    "plt.show()\n",
    "\n",
    "# Calculate model accuracy\n",
    "accuracy = accuracy_score(y_true, y_pred_classes)\n",
    "print(\"Model Accuracy:\", accuracy)\n",
    "\n",
    "# Calculate precision, recall, and f1 score\n",
    "precision = precision_score(y_true, y_pred_classes, average='weighted')\n",
    "recall = recall_score(y_true, y_pred_classes, average='weighted')\n",
    "f1 = f1_score(y_true, y_pred_classes, average='weighted')\n",
    "\n",
    "print(\"Precision:\", precision)\n",
    "print(\"Recall:\", recall)\n",
    "print(\"F1 Score:\", f1)\n",
    "\n",
    "# Calculate AUC-ROC\n",
    "y_pred_prob = model.predict(test_generator)  # Assuming you have y_pred_prob from your model\n",
    "\n",
    "# For multi-class, calculate AUC-ROC for each class (one-vs-rest strategy)\n",
    "auc_roc = []\n",
    "for i in range(num_classes):\n",
    "    auc_roc_class = roc_auc_score(y_true_one_hot[:, i], y_pred_prob[:, i])\n",
    "    auc_roc.append(auc_roc_class)\n",
    "\n",
    "print(\"AUC-ROC per Class:\", auc_roc)\n",
    "\n",
    "# Calculate AUC-PR\n",
    "# AUC-PR does not directly support multi-class, so we use one-vs-rest strategy\n",
    "auc_pr = []\n",
    "for i in range(num_classes):\n",
    "    auc_pr_class = average_precision_score(y_true_binary[:, i], y_pred_prob[:, i])\n",
    "    auc_pr.append(auc_pr_class)\n",
    "\n",
    "print(\"AUC-PR per Class:\", auc_pr)\n",
    "\n",
    "# Measure Inference Speed\n",
    "num_samples = len(test_generator.filenames)\n",
    "inference_time = timeit.timeit(lambda: model.predict(test_generator), number=1)  # Single inference run\n",
    "\n",
    "# Calculate average inference time per sample\n",
    "avg_inference_time_per_sample = inference_time / num_samples\n",
    "print(\"Average Inference Time per Sample:\", avg_inference_time_per_sample)\n"
   ]
  },
  {
   "cell_type": "code",
   "execution_count": 30,
   "metadata": {},
   "outputs": [
    {
     "ename": "ModuleNotFoundError",
     "evalue": "No module named 'cv2'",
     "output_type": "error",
     "traceback": [
      "\u001b[1;31m---------------------------------------------------------------------------\u001b[0m",
      "\u001b[1;31mModuleNotFoundError\u001b[0m                       Traceback (most recent call last)",
      "\u001b[1;32m<ipython-input-30-e29c195807f2>\u001b[0m in \u001b[0;36m<module>\u001b[1;34m\u001b[0m\n\u001b[0;32m      1\u001b[0m \u001b[1;31m# Assuming you have a specific image for which you want to generate the CAM\u001b[0m\u001b[1;33m\u001b[0m\u001b[1;33m\u001b[0m\u001b[1;33m\u001b[0m\u001b[0m\n\u001b[1;32m----> 2\u001b[1;33m \u001b[1;32mimport\u001b[0m \u001b[0mcv2\u001b[0m\u001b[1;33m\u001b[0m\u001b[1;33m\u001b[0m\u001b[0m\n\u001b[0m\u001b[0;32m      3\u001b[0m \u001b[1;32mfrom\u001b[0m \u001b[0mtf_explain\u001b[0m\u001b[1;33m.\u001b[0m\u001b[0mcore\u001b[0m\u001b[1;33m.\u001b[0m\u001b[0mgrad_cam\u001b[0m \u001b[1;32mimport\u001b[0m \u001b[0mGradCAM\u001b[0m\u001b[1;33m\u001b[0m\u001b[1;33m\u001b[0m\u001b[0m\n\u001b[0;32m      4\u001b[0m \u001b[1;33m\u001b[0m\u001b[0m\n\u001b[0;32m      5\u001b[0m \u001b[1;31m# Load and preprocess the image\u001b[0m\u001b[1;33m\u001b[0m\u001b[1;33m\u001b[0m\u001b[1;33m\u001b[0m\u001b[0m\n",
      "\u001b[1;31mModuleNotFoundError\u001b[0m: No module named 'cv2'"
     ]
    }
   ],
   "source": [
    "\n",
    "# Assuming you have a specific image for which you want to generate the CAM\n",
    "import cv2\n",
    "from tf_explain.core.grad_cam import GradCAM\n",
    "\n",
    "# Load and preprocess the image\n",
    "img_path = 'path_to_your_image.jpg'\n",
    "img = cv2.imread(img_path)\n",
    "img = cv2.resize(img, (input_shape[0], input_shape[1]))\n",
    "img = img / 255.0\n",
    "img = np.expand_dims(img, axis=0)\n",
    "\n",
    "# Create the GradCAM explainer\n",
    "explainer = GradCAM()\n",
    "\n",
    "# Generate the CAM visualization\n",
    "cam_image = explainer.explain(validation_image, model, 'block_name_of_layer_to_visualize')\n",
    "\n",
    "# Display the original image and the CAM visualization\n",
    "plt.figure(figsize=(10, 5))\n",
    "plt.subplot(1, 2, 1)\n",
    "plt.imshow(cv2.cvtColor(img, cv2.COLOR_BGR2RGB))\n",
    "plt.title('Original Image')\n",
    "plt.subplot(1, 2, 2)\n",
    "plt.imshow(cv2.cvtColor(cam_image, cv2.COLOR_BGR2RGB))\n",
    "plt.title('Class Activation Map (CAM)')\n",
    "plt.show()\n"
   ]
  }
 ],
 "metadata": {
  "kernelspec": {
   "display_name": "Python 3.6.13 ('gputest')",
   "language": "python",
   "name": "python3"
  },
  "language_info": {
   "codemirror_mode": {
    "name": "ipython",
    "version": 3
   },
   "file_extension": ".py",
   "mimetype": "text/x-python",
   "name": "python",
   "nbconvert_exporter": "python",
   "pygments_lexer": "ipython3",
   "version": "3.6.13"
  },
  "orig_nbformat": 4,
  "vscode": {
   "interpreter": {
    "hash": "126ab9e9385926402df5e89b12e3aba11722a1ad016a8c685d39a8dc69bdf93d"
   }
  }
 },
 "nbformat": 4,
 "nbformat_minor": 2
}
